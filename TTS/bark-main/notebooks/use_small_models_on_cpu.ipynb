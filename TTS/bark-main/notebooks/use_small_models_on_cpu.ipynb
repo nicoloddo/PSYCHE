{
 "cells": [
  {
   "cell_type": "markdown",
   "id": "6a682b61",
   "metadata": {},
   "source": [
    "# Benchmarking small models on CPU\n",
    " - We can enable small models with the `SUNO_USE_SMALL_MODELS` environment variable"
   ]
  },
  {
   "cell_type": "code",
   "execution_count": 1,
   "id": "9500dd93",
   "metadata": {},
   "outputs": [],
   "source": [
    "import os\n",
    "\n",
    "os.environ[\"CUDA_VISIBLE_DEVICES\"] = \"\"\n",
    "os.environ[\"SUNO_USE_SMALL_MODELS\"] = \"1\"\n",
    "\n",
    "from IPython.display import Audio\n",
    "import numpy as np\n",
    "\n",
    "from bark import generate_audio, preload_models, SAMPLE_RATE\n",
    "\n",
    "import time"
   ]
  },
  {
   "cell_type": "code",
   "execution_count": 2,
   "id": "4e3454b6",
   "metadata": {},
   "outputs": [
    {
     "name": "stderr",
     "output_type": "stream",
     "text": [
      "No GPU being used. Careful, inference might be very slow!\n"
     ]
    },
    {
     "name": "stdout",
     "output_type": "stream",
     "text": [
      "CPU times: user 5.52 s, sys: 2.34 s, total: 7.86 s\n",
      "Wall time: 4.33 s\n"
     ]
    }
   ],
   "source": [
    "%%time\n",
    "preload_models()"
   ]
  },
  {
   "cell_type": "code",
   "execution_count": 3,
   "id": "f6024e5f",
   "metadata": {},
   "outputs": [
    {
     "name": "stderr",
     "output_type": "stream",
     "text": [
      "100%|████████████████████████████████████████████████████████| 100/100 [00:10<00:00,  9.89it/s]\n",
      "100%|██████████████████████████████████████████████████████████| 15/15 [00:43<00:00,  2.90s/it]\n"
     ]
    },
    {
     "name": "stdout",
     "output_type": "stream",
     "text": [
      "took 62s to generate 6s of audio\n"
     ]
    }
   ],
   "source": [
    "t0 = time.time()\n",
    "text = \"In the light of the moon, a little egg lay on a leaf\"\n",
    "audio_array = generate_audio(text)\n",
    "generation_duration_s = time.time() - t0\n",
    "audio_duration_s = audio_array.shape[0] / SAMPLE_RATE\n",
    "\n",
    "print(f\"took {generation_duration_s:.0f}s to generate {audio_duration_s:.0f}s of audio\")"
   ]
  },
  {
   "cell_type": "code",
   "execution_count": 4,
   "id": "2dcce86c",
   "metadata": {},
   "outputs": [
    {
     "data": {
      "text/plain": [
       "10"
      ]
     },
     "execution_count": 4,
     "metadata": {},
     "output_type": "execute_result"
    }
   ],
   "source": [
    "os.cpu_count()"
   ]
  },
  {
   "cell_type": "code",
   "execution_count": null,
   "id": "3046eddb",
   "metadata": {},
   "outputs": [],
   "source": []
  }
 ],
 "metadata": {
  "kernelspec": {
   "display_name": "Python 3 (ipykernel)",
   "language": "python",
   "name": "python3"
  },
  "language_info": {
   "codemirror_mode": {
    "name": "ipython",
    "version": 3
   },
   "file_extension": ".py",
   "mimetype": "text/x-python",
   "name": "python",
   "nbconvert_exporter": "python",
   "pygments_lexer": "ipython3",
   "version": "3.9.16"
  }
 },
 "nbformat": 4,
 "nbformat_minor": 5
}
