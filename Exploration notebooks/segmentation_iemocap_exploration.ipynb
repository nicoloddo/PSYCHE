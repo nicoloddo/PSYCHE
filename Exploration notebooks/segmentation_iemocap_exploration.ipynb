{
 "cells": [
  {
   "cell_type": "code",
   "execution_count": 1,
   "id": "8bec74a6",
   "metadata": {},
   "outputs": [],
   "source": [
    "import os\n",
    "\n",
    "import pandas as pd\n",
    "import re\n",
    "from pathlib import Path\n",
    "import IPython.display as ipd\n",
    "\n",
    "import __libpath\n",
    "\n",
    "from pydub import AudioSegment, silence\n",
    "from pydub.playback import play\n",
    "\n",
    "from statsmodels.multivariate.manova import MANOVA\n",
    "import matplotlib.pyplot as plt"
   ]
  },
  {
   "cell_type": "code",
   "execution_count": 2,
   "id": "5642a2d2",
   "metadata": {},
   "outputs": [],
   "source": [
    "df= pd.read_pickle(\"../Preprocessing/Save/IEMOCAP/segmented.pkl\")"
   ]
  },
  {
   "cell_type": "code",
   "execution_count": 17,
   "id": "645657b3",
   "metadata": {},
   "outputs": [
    {
     "name": "stdout",
     "output_type": "stream",
     "text": [
      "<class 'pandas.core.frame.DataFrame'>\n",
      "Int64Index: 8979 entries, 0 to 8978\n",
      "Data columns (total 6 columns):\n",
      " #   Column              Non-Null Count  Dtype  \n",
      "---  ------              --------------  -----  \n",
      " 0   turn_name           8979 non-null   object \n",
      " 1   duration            8979 non-null   float64\n",
      " 2   emotion             8979 non-null   object \n",
      " 3   wav_path            8979 non-null   object \n",
      " 4   transcription_path  8979 non-null   object \n",
      " 5   alignment_path      8979 non-null   object \n",
      "dtypes: float64(1), object(5)\n",
      "memory usage: 491.0+ KB\n"
     ]
    }
   ],
   "source": [
    "df.info()"
   ]
  },
  {
   "cell_type": "code",
   "execution_count": 3,
   "id": "c9c57d33",
   "metadata": {},
   "outputs": [
    {
     "data": {
      "text/html": [
       "<div>\n",
       "<style scoped>\n",
       "    .dataframe tbody tr th:only-of-type {\n",
       "        vertical-align: middle;\n",
       "    }\n",
       "\n",
       "    .dataframe tbody tr th {\n",
       "        vertical-align: top;\n",
       "    }\n",
       "\n",
       "    .dataframe thead th {\n",
       "        text-align: right;\n",
       "    }\n",
       "</style>\n",
       "<table border=\"1\" class=\"dataframe\">\n",
       "  <thead>\n",
       "    <tr style=\"text-align: right;\">\n",
       "      <th></th>\n",
       "      <th>turn_name</th>\n",
       "      <th>duration</th>\n",
       "      <th>emotion</th>\n",
       "      <th>wav_path</th>\n",
       "      <th>transcription_path</th>\n",
       "      <th>alignment_path</th>\n",
       "    </tr>\n",
       "  </thead>\n",
       "  <tbody>\n",
       "    <tr>\n",
       "      <th>0</th>\n",
       "      <td>Ses01F_impro01_F000</td>\n",
       "      <td>1161</td>\n",
       "      <td>neu</td>\n",
       "      <td>D:/OneDrive - Universiteit Utrecht/Documents/0...</td>\n",
       "      <td>D:/OneDrive - Universiteit Utrecht/Documents/0...</td>\n",
       "      <td>D:/OneDrive - Universiteit Utrecht/Documents/0...</td>\n",
       "    </tr>\n",
       "    <tr>\n",
       "      <th>1</th>\n",
       "      <td>Ses01F_impro01_M000</td>\n",
       "      <td>3200</td>\n",
       "      <td>fru</td>\n",
       "      <td>D:/OneDrive - Universiteit Utrecht/Documents/0...</td>\n",
       "      <td>D:/OneDrive - Universiteit Utrecht/Documents/0...</td>\n",
       "      <td>D:/OneDrive - Universiteit Utrecht/Documents/0...</td>\n",
       "    </tr>\n",
       "    <tr>\n",
       "      <th>2</th>\n",
       "      <td>Ses01F_impro01_F001</td>\n",
       "      <td>1226</td>\n",
       "      <td>neu</td>\n",
       "      <td>D:/OneDrive - Universiteit Utrecht/Documents/0...</td>\n",
       "      <td>D:/OneDrive - Universiteit Utrecht/Documents/0...</td>\n",
       "      <td>D:/OneDrive - Universiteit Utrecht/Documents/0...</td>\n",
       "    </tr>\n",
       "    <tr>\n",
       "      <th>3</th>\n",
       "      <td>Ses01F_impro01_M001</td>\n",
       "      <td>6078</td>\n",
       "      <td>fru</td>\n",
       "      <td>D:/OneDrive - Universiteit Utrecht/Documents/0...</td>\n",
       "      <td>D:/OneDrive - Universiteit Utrecht/Documents/0...</td>\n",
       "      <td>D:/OneDrive - Universiteit Utrecht/Documents/0...</td>\n",
       "    </tr>\n",
       "    <tr>\n",
       "      <th>4</th>\n",
       "      <td>Ses01F_impro01_F002</td>\n",
       "      <td>5889</td>\n",
       "      <td>neu</td>\n",
       "      <td>D:/OneDrive - Universiteit Utrecht/Documents/0...</td>\n",
       "      <td>D:/OneDrive - Universiteit Utrecht/Documents/0...</td>\n",
       "      <td>D:/OneDrive - Universiteit Utrecht/Documents/0...</td>\n",
       "    </tr>\n",
       "  </tbody>\n",
       "</table>\n",
       "</div>"
      ],
      "text/plain": [
       "             turn_name  duration emotion  \\\n",
       "0  Ses01F_impro01_F000      1161     neu   \n",
       "1  Ses01F_impro01_M000      3200     fru   \n",
       "2  Ses01F_impro01_F001      1226     neu   \n",
       "3  Ses01F_impro01_M001      6078     fru   \n",
       "4  Ses01F_impro01_F002      5889     neu   \n",
       "\n",
       "                                            wav_path  \\\n",
       "0  D:/OneDrive - Universiteit Utrecht/Documents/0...   \n",
       "1  D:/OneDrive - Universiteit Utrecht/Documents/0...   \n",
       "2  D:/OneDrive - Universiteit Utrecht/Documents/0...   \n",
       "3  D:/OneDrive - Universiteit Utrecht/Documents/0...   \n",
       "4  D:/OneDrive - Universiteit Utrecht/Documents/0...   \n",
       "\n",
       "                                  transcription_path  \\\n",
       "0  D:/OneDrive - Universiteit Utrecht/Documents/0...   \n",
       "1  D:/OneDrive - Universiteit Utrecht/Documents/0...   \n",
       "2  D:/OneDrive - Universiteit Utrecht/Documents/0...   \n",
       "3  D:/OneDrive - Universiteit Utrecht/Documents/0...   \n",
       "4  D:/OneDrive - Universiteit Utrecht/Documents/0...   \n",
       "\n",
       "                                      alignment_path  \n",
       "0  D:/OneDrive - Universiteit Utrecht/Documents/0...  \n",
       "1  D:/OneDrive - Universiteit Utrecht/Documents/0...  \n",
       "2  D:/OneDrive - Universiteit Utrecht/Documents/0...  \n",
       "3  D:/OneDrive - Universiteit Utrecht/Documents/0...  \n",
       "4  D:/OneDrive - Universiteit Utrecht/Documents/0...  "
      ]
     },
     "execution_count": 3,
     "metadata": {},
     "output_type": "execute_result"
    }
   ],
   "source": [
    "df.head()"
   ]
  },
  {
   "cell_type": "code",
   "execution_count": 15,
   "id": "334f7006",
   "metadata": {},
   "outputs": [
    {
     "data": {
      "text/plain": [
       "fru    1687\n",
       "neu    1626\n",
       "sad    1487\n",
       "ang    1397\n",
       "hap    1230\n",
       "exc    1036\n",
       "sur     299\n",
       "fea     138\n",
       "dis      79\n",
       "Name: emotion, dtype: int64"
      ]
     },
     "execution_count": 15,
     "metadata": {},
     "output_type": "execute_result"
    }
   ],
   "source": [
    "df['emotion'].value_counts()"
   ]
  },
  {
   "cell_type": "code",
   "execution_count": 4,
   "id": "59bf48b9",
   "metadata": {},
   "outputs": [],
   "source": [
    "df['duration'] = df['duration'] / 1000 # convert to seconds"
   ]
  },
  {
   "cell_type": "code",
   "execution_count": 5,
   "id": "a8cb9a73",
   "metadata": {},
   "outputs": [
    {
     "data": {
      "text/plain": [
       "count    8979.000000\n",
       "mean        5.492884\n",
       "std         3.173642\n",
       "min         0.070000\n",
       "25%         3.186000\n",
       "50%         4.803000\n",
       "75%         7.352000\n",
       "max        23.650000\n",
       "Name: duration, dtype: float64"
      ]
     },
     "execution_count": 5,
     "metadata": {},
     "output_type": "execute_result"
    }
   ],
   "source": [
    "df['duration'].describe()"
   ]
  },
  {
   "cell_type": "code",
   "execution_count": 6,
   "id": "a4e7008a",
   "metadata": {},
   "outputs": [],
   "source": [
    "def subset_maxduration_stats(df, milliseconds_threshold):\n",
    "    under = df.loc[df['duration'] < milliseconds_threshold]\n",
    "    print(\"Total entries:\", str(len(under)))\n",
    "    print(\"Percentage of dataset:\")\n",
    "    print(str(len(under) / len(df) *100), '%')"
   ]
  },
  {
   "cell_type": "code",
   "execution_count": 7,
   "id": "32a3ef37",
   "metadata": {},
   "outputs": [],
   "source": [
    "def subset_minduration_stats(df, milliseconds_threshold):\n",
    "    over = df.loc[df['duration'] > milliseconds_threshold]\n",
    "    print(\"Total entries:\", str(len(over)))\n",
    "    print(\"Percentage of dataset:\")\n",
    "    print(str(len(over) / len(df) *100), '%')"
   ]
  },
  {
   "cell_type": "code",
   "execution_count": 8,
   "id": "713a6f3e",
   "metadata": {
    "scrolled": false
   },
   "outputs": [
    {
     "data": {
      "image/png": "[encoded data removed]",
      "text/plain": [
       "<Figure size 1000x600 with 1 Axes>"
      ]
     },
     "metadata": {},
     "output_type": "display_data"
    }
   ],
   "source": [
    "plt.figure(figsize=(10,6))\n",
    "plt.hist(df['duration'], bins=50, edgecolor='black')\n",
    "plt.title('Histogram of turn durations')\n",
    "plt.xlabel('Turn durations')\n",
    "plt.ylabel('Frequency')\n",
    "plt.show()"
   ]
  },
  {
   "cell_type": "code",
   "execution_count": 9,
   "id": "2ca567a1",
   "metadata": {},
   "outputs": [
    {
     "name": "stdout",
     "output_type": "stream",
     "text": [
      "Total entries: 4694\n",
      "Percentage of dataset:\n",
      "0.5227753647399488\n"
     ]
    },
    {
     "data": {
      "image/png": "[encoded data removed]",
      "text/plain": [
       "<Figure size 1000x600 with 1 Axes>"
      ]
     },
     "metadata": {},
     "output_type": "display_data"
    }
   ],
   "source": [
    "under5 = df.loc[df['duration'] < 5]\n",
    "print(\"Total entries:\", str(len(under5)))\n",
    "print(\"Percentage of dataset:\")\n",
    "print(len(under5) / len(df))\n",
    "\n",
    "plt.figure(figsize=(10,6))\n",
    "plt.hist(under5['duration'], bins=50, edgecolor='black')\n",
    "plt.title('Histogram of turn durations under 5 seconds')\n",
    "plt.xlabel('Turn durations')\n",
    "plt.ylabel('Frequency')\n",
    "plt.show()"
   ]
  },
  {
   "cell_type": "code",
   "execution_count": 10,
   "id": "b2acd2be",
   "metadata": {
    "scrolled": true
   },
   "outputs": [
    {
     "name": "stdout",
     "output_type": "stream",
     "text": [
      "Total entries: 266\n",
      "Percentage of dataset:\n",
      "2.962467980844192 %\n"
     ]
    }
   ],
   "source": [
    "subset_maxduration_stats(df, 1)"
   ]
  },
  {
   "cell_type": "code",
   "execution_count": 11,
   "id": "e3684ab9",
   "metadata": {},
   "outputs": [
    {
     "name": "stdout",
     "output_type": "stream",
     "text": [
      "Total entries: 977\n",
      "Percentage of dataset:\n",
      "10.880944425882614 %\n"
     ]
    }
   ],
   "source": [
    "subset_maxduration_stats(df, 2)"
   ]
  },
  {
   "cell_type": "code",
   "execution_count": 12,
   "id": "f48c1a25",
   "metadata": {},
   "outputs": [
    {
     "name": "stdout",
     "output_type": "stream",
     "text": [
      "Total entries: 2\n",
      "Percentage of dataset:\n",
      "0.022274195344693173 %\n"
     ]
    }
   ],
   "source": [
    "subset_minduration_stats(df, 20)"
   ]
  },
  {
   "cell_type": "code",
   "execution_count": 13,
   "id": "f9072d8e",
   "metadata": {},
   "outputs": [
    {
     "name": "stdout",
     "output_type": "stream",
     "text": [
      "Total entries: 26\n",
      "Percentage of dataset:\n",
      "0.28956453948101124 %\n"
     ]
    }
   ],
   "source": [
    "subset_minduration_stats(df, 15)"
   ]
  },
  {
   "cell_type": "code",
   "execution_count": 14,
   "id": "14c5c333",
   "metadata": {},
   "outputs": [
    {
     "data": {
      "text/html": [
       "<div>\n",
       "<style scoped>\n",
       "    .dataframe tbody tr th:only-of-type {\n",
       "        vertical-align: middle;\n",
       "    }\n",
       "\n",
       "    .dataframe tbody tr th {\n",
       "        vertical-align: top;\n",
       "    }\n",
       "\n",
       "    .dataframe thead th {\n",
       "        text-align: right;\n",
       "    }\n",
       "</style>\n",
       "<table border=\"1\" class=\"dataframe\">\n",
       "  <thead>\n",
       "    <tr style=\"text-align: right;\">\n",
       "      <th></th>\n",
       "      <th>turn_name</th>\n",
       "      <th>duration</th>\n",
       "      <th>emotion</th>\n",
       "      <th>wav_path</th>\n",
       "      <th>transcription_path</th>\n",
       "      <th>alignment_path</th>\n",
       "    </tr>\n",
       "  </thead>\n",
       "  <tbody>\n",
       "    <tr>\n",
       "      <th>900</th>\n",
       "      <td>Ses01M_impro02_M023_0</td>\n",
       "      <td>23.650</td>\n",
       "      <td>sad</td>\n",
       "      <td>D:/OneDrive - Universiteit Utrecht/Documents/0...</td>\n",
       "      <td>D:/OneDrive - Universiteit Utrecht/Documents/0...</td>\n",
       "      <td>D:/OneDrive - Universiteit Utrecht/Documents/0...</td>\n",
       "    </tr>\n",
       "    <tr>\n",
       "      <th>7726</th>\n",
       "      <td>Ses05F_script01_3_M016_0</td>\n",
       "      <td>20.142</td>\n",
       "      <td>exc</td>\n",
       "      <td>D:/OneDrive - Universiteit Utrecht/Documents/0...</td>\n",
       "      <td>D:/OneDrive - Universiteit Utrecht/Documents/0...</td>\n",
       "      <td>D:/OneDrive - Universiteit Utrecht/Documents/0...</td>\n",
       "    </tr>\n",
       "  </tbody>\n",
       "</table>\n",
       "</div>"
      ],
      "text/plain": [
       "                     turn_name  duration emotion  \\\n",
       "900      Ses01M_impro02_M023_0    23.650     sad   \n",
       "7726  Ses05F_script01_3_M016_0    20.142     exc   \n",
       "\n",
       "                                               wav_path  \\\n",
       "900   D:/OneDrive - Universiteit Utrecht/Documents/0...   \n",
       "7726  D:/OneDrive - Universiteit Utrecht/Documents/0...   \n",
       "\n",
       "                                     transcription_path  \\\n",
       "900   D:/OneDrive - Universiteit Utrecht/Documents/0...   \n",
       "7726  D:/OneDrive - Universiteit Utrecht/Documents/0...   \n",
       "\n",
       "                                         alignment_path  \n",
       "900   D:/OneDrive - Universiteit Utrecht/Documents/0...  \n",
       "7726  D:/OneDrive - Universiteit Utrecht/Documents/0...  "
      ]
     },
     "execution_count": 14,
     "metadata": {},
     "output_type": "execute_result"
    }
   ],
   "source": [
    "df.loc[df['duration'] >= 20]"
   ]
  },
  {
   "cell_type": "markdown",
   "id": "c6f723d3",
   "metadata": {},
   "source": [
    "### I will finally be removing under 1 second turns and over 20 seconds ones, resulting in a loss of the 3% of the Dataset, but making the training more efficient and less prone to memory issues."
   ]
  }
 ],
 "metadata": {
  "kernelspec": {
   "display_name": "Python 3 (ipykernel)",
   "language": "python",
   "name": "python3"
  },
  "language_info": {
   "codemirror_mode": {
    "name": "ipython",
    "version": 3
   },
   "file_extension": ".py",
   "mimetype": "text/x-python",
   "name": "python",
   "nbconvert_exporter": "python",
   "pygments_lexer": "ipython3",
   "version": "3.10.9"
  }
 },
 "nbformat": 4,
 "nbformat_minor": 5
}
