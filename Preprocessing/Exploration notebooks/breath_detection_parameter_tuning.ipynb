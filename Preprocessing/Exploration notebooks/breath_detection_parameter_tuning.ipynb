{
 "cells": [
  {
   "cell_type": "code",
   "execution_count": 1,
   "id": "58630b1e",
   "metadata": {},
   "outputs": [],
   "source": [
    "import numpy as np\n",
    "import matplotlib.pyplot as plt\n",
    "\n",
    "import IPython.display as ipd\n",
    "\n",
    "from importlib import reload\n",
    "\n",
    "import nic_dataset_tools as ndt\n",
    "\n",
    "ndt = reload(ndt) # if you change a function reload it like this\n",
    "ndt.ALIGNER = 'gentle_aligner'"
   ]
  },
  {
   "cell_type": "markdown",
   "id": "bc4e8bf6",
   "metadata": {},
   "source": [
    "## The results that I want:\n",
    "\n",
    "mean bpm: around 16.5\n",
    "\n",
    "std bpm: around 7"
   ]
  },
  {
   "cell_type": "markdown",
   "id": "f0e8932d",
   "metadata": {},
   "source": [
    "# Let's try"
   ]
  },
  {
   "cell_type": "markdown",
   "id": "2ec49f57",
   "metadata": {},
   "source": [
    "## Best try 1:"
   ]
  },
  {
   "cell_type": "code",
   "execution_count": 2,
   "id": "444b3157",
   "metadata": {
    "scrolled": true
   },
   "outputs": [
    {
     "name": "stdout",
     "output_type": "stream",
     "text": [
      "FINAL STATS:\n",
      "Average number of breaths: 63.14\n",
      "Max breaths: 97 - train_04.json\n",
      "Min breaths: 33 - train_03.json\n",
      "Average breath duration: 0.6\n",
      "Average duration till getting a breath: 3.4\n",
      "Max breath duration: 4.88 - train_05.json\n",
      "Min breath duration: 0.3 - devel_00.json\n",
      "Max duration till getting a breath: 22.11\n",
      "Min duration till getting a breath: 0.01\n"
     ]
    }
   ],
   "source": [
    "breath_stats = ndt.breath_stats('gentle_mfa_assemblyAI/', interval_db_max = -0, respiration_db_max = -40, interval_peak_db_max = -0, respiration_length_min = 0.3, singleprint = True)"
   ]
  },
  {
   "cell_type": "code",
   "execution_count": 3,
   "id": "b3f7e171",
   "metadata": {},
   "outputs": [],
   "source": [
    "bpm1 = [x / 4 for x in breath_stats['counts']]"
   ]
  },
  {
   "cell_type": "code",
   "execution_count": 4,
   "id": "f66bf097",
   "metadata": {},
   "outputs": [
    {
     "name": "stdout",
     "output_type": "stream",
     "text": [
      "mean: 15.78\n",
      "std: 3.53\n"
     ]
    },
    {
     "data": {
      "image/png": "[encoded data removed]",
      "text/plain": [
       "<Figure size 640x480 with 1 Axes>"
      ]
     },
     "metadata": {},
     "output_type": "display_data"
    }
   ],
   "source": [
    "bpm = [x / 4 for x in breath_stats['counts']]\n",
    "plt.hist(bpm, bins = 20, range = (0,30))\n",
    "print(\"mean:\", round(np.mean(bpm), 2))\n",
    "print(\"std:\", round(np.std(bpm), 2))"
   ]
  },
  {
   "cell_type": "code",
   "execution_count": 5,
   "id": "b918b9c1",
   "metadata": {},
   "outputs": [
    {
     "name": "stdout",
     "output_type": "stream",
     "text": [
      "mean: 15.761904761904763\n",
      "std: 3.166017656371094\n"
     ]
    },
    {
     "data": {
      "image/png": "[encoded data removed]",
      "text/plain": [
       "<Figure size 640x480 with 1 Axes>"
      ]
     },
     "metadata": {},
     "output_type": "display_data"
    }
   ],
   "source": [
    "no_outliers_count = [i for i in bpm if i > min(bpm) and i < max(bpm)]\n",
    "plt.hist(no_outliers_count, bins = 20, range = (0,30))\n",
    "print(\"mean:\", np.mean(no_outliers_count))\n",
    "print(\"std:\", np.std(no_outliers_count))"
   ]
  },
  {
   "cell_type": "code",
   "execution_count": 6,
   "id": "6dcb5974",
   "metadata": {},
   "outputs": [
    {
     "name": "stdout",
     "output_type": "stream",
     "text": [
      "44\n",
      "42\n"
     ]
    }
   ],
   "source": [
    "print(len(bpm))\n",
    "print(len(no_outliers_count))"
   ]
  },
  {
   "cell_type": "markdown",
   "id": "7dcf46f3",
   "metadata": {},
   "source": [
    "## The big question: 0.3 or 0.33 of min length?"
   ]
  },
  {
   "cell_type": "code",
   "execution_count": 7,
   "id": "5284a771",
   "metadata": {
    "scrolled": false
   },
   "outputs": [
    {
     "name": "stdout",
     "output_type": "stream",
     "text": [
      "FINAL STATS:\n",
      "Average number of breaths: 59.2\n",
      "Max breaths: 93 - train_04.json\n",
      "Min breaths: 33 - train_03.json\n",
      "Average breath duration: 0.62\n",
      "Average duration till getting a breath: 3.66\n",
      "Max breath duration: 4.88 - train_05.json\n",
      "Min breath duration: 0.33 - devel_00.json\n",
      "Max duration till getting a breath: 22.11\n",
      "Min duration till getting a breath: 0.01\n"
     ]
    }
   ],
   "source": [
    "breath_stats = ndt.breath_stats('gentle_mfa_assemblyAI/', interval_db_max = -0, respiration_db_max = -40, interval_peak_db_max = -0, respiration_length_min = 0.33, singleprint = True)"
   ]
  },
  {
   "cell_type": "code",
   "execution_count": 8,
   "id": "a6d75764",
   "metadata": {},
   "outputs": [],
   "source": [
    "bpm1b = [x / 4 for x in breath_stats['counts']]"
   ]
  },
  {
   "cell_type": "code",
   "execution_count": 9,
   "id": "e69a19e0",
   "metadata": {
    "scrolled": false
   },
   "outputs": [
    {
     "name": "stdout",
     "output_type": "stream",
     "text": [
      "mean: 14.8\n",
      "std: 3.57\n"
     ]
    },
    {
     "data": {
      "image/png": "[encoded data removed]",
      "text/plain": [
       "<Figure size 640x480 with 1 Axes>"
      ]
     },
     "metadata": {},
     "output_type": "display_data"
    }
   ],
   "source": [
    "bpm = [x / 4 for x in breath_stats['counts']]\n",
    "plt.hist(bpm, bins = 20, range = (0,30))\n",
    "print(\"mean:\", round(np.mean(bpm), 2))\n",
    "print(\"std:\", round(np.std(bpm), 2))"
   ]
  },
  {
   "cell_type": "markdown",
   "id": "3fb39b37",
   "metadata": {},
   "source": [
    "## Best try 2:"
   ]
  },
  {
   "cell_type": "code",
   "execution_count": 10,
   "id": "6f4b572e",
   "metadata": {
    "scrolled": true
   },
   "outputs": [
    {
     "name": "stdout",
     "output_type": "stream",
     "text": [
      "FINAL STATS:\n",
      "Average number of breaths: 78.77\n",
      "Max breaths: 115 - train_12.json\n",
      "Min breaths: 49 - train_03.json\n",
      "Average breath duration: 0.53\n",
      "Average duration till getting a breath: 2.7\n",
      "Max breath duration: 4.88 - train_05.json\n",
      "Min breath duration: 0.19 - devel_00.json\n",
      "Max duration till getting a breath: 15.79\n",
      "Min duration till getting a breath: 0.01\n"
     ]
    }
   ],
   "source": [
    "breath_stats = ndt.breath_stats('gentle_mfa_assemblyAI/', interval_db_max = -0, respiration_db_max = -40, interval_peak_db_max = -0, respiration_length_min = 0.19, singleprint = True)"
   ]
  },
  {
   "cell_type": "code",
   "execution_count": 11,
   "id": "279c409b",
   "metadata": {},
   "outputs": [],
   "source": [
    "bpm2 = [x / 4 for x in breath_stats['counts']]"
   ]
  },
  {
   "cell_type": "code",
   "execution_count": 12,
   "id": "118d56c8",
   "metadata": {},
   "outputs": [
    {
     "name": "stdout",
     "output_type": "stream",
     "text": [
      "mean: 19.69\n",
      "std: 3.91\n"
     ]
    },
    {
     "data": {
      "image/png": "[encoded data removed]",
      "text/plain": [
       "<Figure size 640x480 with 1 Axes>"
      ]
     },
     "metadata": {},
     "output_type": "display_data"
    }
   ],
   "source": [
    "bpm = [x / 4 for x in breath_stats['counts']]\n",
    "plt.hist(bpm, bins = 20, range = (0,30))\n",
    "print(\"mean:\", round(np.mean(bpm), 2))\n",
    "print(\"std:\", round(np.std(bpm), 2))"
   ]
  },
  {
   "cell_type": "markdown",
   "id": "70b2f292",
   "metadata": {},
   "source": [
    "## Best try 3:"
   ]
  },
  {
   "cell_type": "code",
   "execution_count": 13,
   "id": "14bd8aa7",
   "metadata": {
    "scrolled": false
   },
   "outputs": [
    {
     "name": "stdout",
     "output_type": "stream",
     "text": [
      "FINAL STATS:\n",
      "Average number of breaths: 62.43\n",
      "Max breaths: 101 - train_04.json\n",
      "Min breaths: 29 - train_03.json\n",
      "Average breath duration: 0.58\n",
      "Average duration till getting a breath: 3.47\n",
      "Max breath duration: 4.88 - train_05.json\n",
      "Min breath duration: 0.27 - devel_04.json\n",
      "Max duration till getting a breath: 26.19\n",
      "Min duration till getting a breath: 0.01\n"
     ]
    }
   ],
   "source": [
    "breath_stats = ndt.breath_stats('gentle_mfa_assemblyAI/', interval_db_max = -10, respiration_db_max = -40, interval_peak_db_max = -5, respiration_length_min = 0.27)"
   ]
  },
  {
   "cell_type": "code",
   "execution_count": 14,
   "id": "f26f77c9",
   "metadata": {},
   "outputs": [],
   "source": [
    "bpm3 = [x / 4 for x in breath_stats['counts']]"
   ]
  },
  {
   "cell_type": "code",
   "execution_count": 15,
   "id": "41225ed2",
   "metadata": {},
   "outputs": [
    {
     "name": "stdout",
     "output_type": "stream",
     "text": [
      "mean: 15.61\n",
      "std: 3.7\n"
     ]
    },
    {
     "data": {
      "image/png": "[encoded data removed]",
      "text/plain": [
       "<Figure size 640x480 with 1 Axes>"
      ]
     },
     "metadata": {},
     "output_type": "display_data"
    }
   ],
   "source": [
    "bpm = [x / 4 for x in breath_stats['counts']]\n",
    "plt.hist(bpm, bins = 20, range = (0,30))\n",
    "print(\"mean:\", round(np.mean(bpm), 2))\n",
    "print(\"std:\", round(np.std(bpm), 2))"
   ]
  },
  {
   "cell_type": "markdown",
   "id": "e55e4646",
   "metadata": {},
   "source": [
    "Nice average, a bit too broad std"
   ]
  },
  {
   "cell_type": "markdown",
   "id": "8daee397",
   "metadata": {},
   "source": [
    "## Best try 4:"
   ]
  },
  {
   "cell_type": "code",
   "execution_count": 16,
   "id": "8ac0f3c6",
   "metadata": {
    "scrolled": true
   },
   "outputs": [
    {
     "name": "stdout",
     "output_type": "stream",
     "text": [
      "FINAL STATS:\n",
      "Average number of breaths: 62.43\n",
      "Max breaths: 101 - train_04.json\n",
      "Min breaths: 29 - train_03.json\n",
      "Average breath duration: 0.58\n",
      "Average duration till getting a breath: 3.47\n",
      "Max breath duration: 4.88 - train_05.json\n",
      "Min breath duration: 0.27 - devel_04.json\n",
      "Max duration till getting a breath: 26.19\n",
      "Min duration till getting a breath: 0.01\n"
     ]
    }
   ],
   "source": [
    "breath_stats = ndt.breath_stats('gentle_mfa_assemblyAI/', interval_db_max = -0, respiration_db_max = -40, interval_peak_db_max = -5, respiration_length_min = 0.27, singleprint = True)"
   ]
  },
  {
   "cell_type": "code",
   "execution_count": 17,
   "id": "a2c9d392",
   "metadata": {},
   "outputs": [],
   "source": [
    "bpm4 = [x / 4 for x in breath_stats['counts']]"
   ]
  },
  {
   "cell_type": "code",
   "execution_count": 18,
   "id": "a852fff1",
   "metadata": {},
   "outputs": [
    {
     "name": "stdout",
     "output_type": "stream",
     "text": [
      "mean: 15.61\n",
      "std: 3.7\n"
     ]
    },
    {
     "data": {
      "image/png": "[encoded data removed]",
      "text/plain": [
       "<Figure size 640x480 with 1 Axes>"
      ]
     },
     "metadata": {},
     "output_type": "display_data"
    }
   ],
   "source": [
    "bpm = [x / 4 for x in breath_stats['counts']]\n",
    "plt.hist(bpm, bins = 20, range = (0,30))\n",
    "print(\"mean:\", round(np.mean(bpm), 2))\n",
    "print(\"std:\", round(np.std(bpm), 2))"
   ]
  },
  {
   "cell_type": "markdown",
   "id": "716cf3a9",
   "metadata": {},
   "source": [
    "## Systematic tries:"
   ]
  },
  {
   "cell_type": "markdown",
   "id": "18b5b785",
   "metadata": {},
   "source": [
    "### 2:"
   ]
  },
  {
   "cell_type": "code",
   "execution_count": 19,
   "id": "29f3f4fe",
   "metadata": {},
   "outputs": [
    {
     "name": "stdout",
     "output_type": "stream",
     "text": [
      "FINAL STATS:\n",
      "Average number of breaths: 53.43\n",
      "Max breaths: 88 - train_04.json\n",
      "Min breaths: 14 - train_03.json\n",
      "Average breath duration: 0.63\n",
      "Average duration till getting a breath: 4.4\n",
      "Max breath duration: 4.88 - train_05.json\n",
      "Min breath duration: 0.35 - devel_01.json\n",
      "Max duration till getting a breath: 56.81\n",
      "Min duration till getting a breath: 0.03\n"
     ]
    }
   ],
   "source": [
    "breath_stats = ndt.breath_stats('gentle_mfa_assemblyAI/', interval_db_max = -0, respiration_db_max = -42, interval_peak_db_max = -0, respiration_length_min = 0.35)"
   ]
  },
  {
   "cell_type": "code",
   "execution_count": 20,
   "id": "a9ae8d14",
   "metadata": {},
   "outputs": [
    {
     "name": "stdout",
     "output_type": "stream",
     "text": [
      "mean: 13.36\n",
      "std: 3.84\n"
     ]
    },
    {
     "data": {
      "image/png": "[encoded data removed]",
      "text/plain": [
       "<Figure size 640x480 with 1 Axes>"
      ]
     },
     "metadata": {},
     "output_type": "display_data"
    }
   ],
   "source": [
    "bpm = [x / 4 for x in breath_stats['counts']]\n",
    "plt.hist(bpm, bins = 20, range = (0,30))\n",
    "print(\"mean:\", round(np.mean(bpm), 2))\n",
    "print(\"std:\", round(np.std(bpm), 2))"
   ]
  },
  {
   "cell_type": "markdown",
   "id": "5617f71c",
   "metadata": {},
   "source": [
    "### 3:"
   ]
  },
  {
   "cell_type": "code",
   "execution_count": 21,
   "id": "f2e1ca09",
   "metadata": {},
   "outputs": [
    {
     "name": "stdout",
     "output_type": "stream",
     "text": [
      "FINAL STATS:\n",
      "Average number of breaths: 66.86\n",
      "Max breaths: 104 - train_04.json\n",
      "Min breaths: 37 - train_03.json\n",
      "Average breath duration: 0.58\n",
      "Average duration till getting a breath: 3.18\n",
      "Max breath duration: 4.88 - train_05.json\n",
      "Min breath duration: 0.27 - devel_04.json\n",
      "Max duration till getting a breath: 18.06\n",
      "Min duration till getting a breath: 0.01\n"
     ]
    }
   ],
   "source": [
    "breath_stats = ndt.breath_stats('gentle_mfa_assemblyAI/', interval_db_max = -0, respiration_db_max = -40, interval_peak_db_max = -0, respiration_length_min = 0.27, singleprint = True)"
   ]
  },
  {
   "cell_type": "code",
   "execution_count": 22,
   "id": "9cd2878c",
   "metadata": {},
   "outputs": [
    {
     "name": "stdout",
     "output_type": "stream",
     "text": [
      "mean: 16.72\n",
      "std: 3.55\n"
     ]
    },
    {
     "data": {
      "image/png": "[encoded data removed]",
      "text/plain": [
       "<Figure size 640x480 with 1 Axes>"
      ]
     },
     "metadata": {},
     "output_type": "display_data"
    }
   ],
   "source": [
    "bpm = [x / 4 for x in breath_stats['counts']]\n",
    "plt.hist(bpm, bins = 20, range = (0,30))\n",
    "print(\"mean:\", round(np.mean(bpm), 2))\n",
    "print(\"std:\", round(np.std(bpm), 2))"
   ]
  },
  {
   "cell_type": "markdown",
   "id": "5a530ff4",
   "metadata": {},
   "source": [
    "### 4:"
   ]
  },
  {
   "cell_type": "code",
   "execution_count": 23,
   "id": "f721a2c2",
   "metadata": {},
   "outputs": [
    {
     "name": "stdout",
     "output_type": "stream",
     "text": [
      "FINAL STATS:\n",
      "Average number of breaths: 63.14\n",
      "Max breaths: 97 - train_04.json\n",
      "Min breaths: 33 - train_03.json\n",
      "Average breath duration: 0.6\n",
      "Average duration till getting a breath: 3.4\n",
      "Max breath duration: 4.88 - train_05.json\n",
      "Min breath duration: 0.3 - devel_00.json\n",
      "Max duration till getting a breath: 22.11\n",
      "Min duration till getting a breath: 0.01\n"
     ]
    }
   ],
   "source": [
    "breath_stats = ndt.breath_stats('gentle_mfa_assemblyAI/', interval_db_max = -0, respiration_db_max = -40, interval_peak_db_max = -0, respiration_length_min = 0.3, singleprint = True)"
   ]
  },
  {
   "cell_type": "code",
   "execution_count": 24,
   "id": "831eb2b8",
   "metadata": {},
   "outputs": [
    {
     "name": "stdout",
     "output_type": "stream",
     "text": [
      "mean: 15.78\n",
      "std: 3.53\n"
     ]
    },
    {
     "data": {
      "image/png": "[encoded data removed]",
      "text/plain": [
       "<Figure size 640x480 with 1 Axes>"
      ]
     },
     "metadata": {},
     "output_type": "display_data"
    }
   ],
   "source": [
    "bpm = [x / 4 for x in breath_stats['counts']]\n",
    "plt.hist(bpm, bins = 20, range = (0,30))\n",
    "print(\"mean:\", round(np.mean(bpm), 2))\n",
    "print(\"std:\", round(np.std(bpm), 2))"
   ]
  }
 ],
 "metadata": {
  "kernelspec": {
   "display_name": "Python 3 (ipykernel)",
   "language": "python",
   "name": "python3"
  },
  "language_info": {
   "codemirror_mode": {
    "name": "ipython",
    "version": 3
   },
   "file_extension": ".py",
   "mimetype": "text/x-python",
   "name": "python",
   "nbconvert_exporter": "python",
   "pygments_lexer": "ipython3",
   "version": "3.10.9"
  }
 },
 "nbformat": 4,
 "nbformat_minor": 5
}
